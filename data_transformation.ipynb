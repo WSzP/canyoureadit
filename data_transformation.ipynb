{
 "cells": [
  {
   "cell_type": "markdown",
   "metadata": {
    "collapsed": true,
    "pycharm": {
     "name": "#%% md\n"
    }
   },
   "source": [
    "# Data Transformation\n",
    "**input:** .csv files directly exported from the [CanYouReadIt?](https://canyoureadit.com) project's database tables at **4/7/2022.**\n",
    "**output:** single .csv file ready for EDA (Exploratory Data Analysis)\n",
    "\n",
    "*Note:* With each request the user is presented with a random image, chosen from the /img directory. They can decide to skip the image (-1 response value), or rate its readability the image. The rating can be yes (+1 response value) or no (0 response value)."
   ]
  },
  {
   "cell_type": "code",
   "execution_count": 1,
   "metadata": {
    "collapsed": false,
    "pycharm": {
     "name": "#%%\n"
    }
   },
   "outputs": [
    {
     "name": "stdout",
     "output_type": "stream",
     "text": [
      "Pandas version: 1.4.1 found!\n"
     ]
    }
   ],
   "source": [
    "try:\n",
    "    import pandas as pd\n",
    "    print(f\"Pandas version: {pd.__version__} found!\")\n",
    "except ModuleNotFoundError:\n",
    "    print(\"Install Pandas with: conda install pandas\")\n",
    "import numpy as np\n",
    "from constants import (TIMESTAMP, IMAGES, DESKTOP, MOBILE, SAVEPATH, T)"
   ]
  },
  {
   "cell_type": "code",
   "execution_count": 2,
   "metadata": {
    "collapsed": false,
    "pycharm": {
     "name": "#%%\n"
    }
   },
   "outputs": [
    {
     "name": "stdout",
     "output_type": "stream",
     "text": [
      "<class 'pandas.core.frame.DataFrame'>\n",
      "RangeIndex: 35598 entries, 0 to 35597\n",
      "Data columns (total 6 columns):\n",
      " #   Column       Non-Null Count  Dtype         \n",
      "---  ------       --------------  -----         \n",
      " 0   id           35598 non-null  int64         \n",
      " 1   image_id     35598 non-null  int64         \n",
      " 2   response     35598 non-null  int64         \n",
      " 3   create_dt    35598 non-null  datetime64[ns]\n",
      " 4   session_id   35598 non-null  object        \n",
      " 5   mobile_user  35598 non-null  bool          \n",
      "dtypes: bool(1), datetime64[ns](1), int64(3), object(1)\n",
      "memory usage: 1.4+ MB\n"
     ]
    }
   ],
   "source": [
    "desktop_df = pd.read_csv(DESKTOP,\n",
    "                 sep=',',\n",
    "                 encoding='utf-8',\n",
    "                 parse_dates = [\"create_dt\"])\n",
    "desktop_df['mobile_user']=False\n",
    "desktop_df.info()"
   ]
  },
  {
   "cell_type": "code",
   "execution_count": 3,
   "metadata": {
    "collapsed": false,
    "pycharm": {
     "name": "#%%\n"
    }
   },
   "outputs": [
    {
     "name": "stdout",
     "output_type": "stream",
     "text": [
      "<class 'pandas.core.frame.DataFrame'>\n",
      "RangeIndex: 15566 entries, 0 to 15565\n",
      "Data columns (total 6 columns):\n",
      " #   Column       Non-Null Count  Dtype         \n",
      "---  ------       --------------  -----         \n",
      " 0   id           15566 non-null  int64         \n",
      " 1   image_id     15566 non-null  int64         \n",
      " 2   response     15566 non-null  int64         \n",
      " 3   create_dt    15566 non-null  datetime64[ns]\n",
      " 4   session_id   15566 non-null  object        \n",
      " 5   mobile_user  15566 non-null  bool          \n",
      "dtypes: bool(1), datetime64[ns](1), int64(3), object(1)\n",
      "memory usage: 623.4+ KB\n"
     ]
    }
   ],
   "source": [
    "mobile_df = pd.read_csv(MOBILE,\n",
    "                 sep=',',\n",
    "                 encoding='utf-8',\n",
    "                 parse_dates = [\"create_dt\"])\n",
    "mobile_df['mobile_user']=True\n",
    "mobile_df.info()"
   ]
  },
  {
   "cell_type": "code",
   "execution_count": 4,
   "metadata": {
    "collapsed": false,
    "pycharm": {
     "name": "#%%\n"
    }
   },
   "outputs": [
    {
     "data": {
      "text/plain": "       image_id  response           create_dt  \\\n0             6         1 2021-04-20 20:23:08   \n1             4         1 2021-04-21 11:33:17   \n2             9         1 2021-04-21 11:33:19   \n3             5         1 2021-04-21 12:42:57   \n4            11         1 2021-04-21 12:43:07   \n...         ...       ...                 ...   \n35593       341         1 2022-04-07 16:12:55   \n35594       412         1 2022-04-07 16:13:06   \n35595       475         1 2022-04-07 16:13:10   \n35596       226         1 2022-04-07 16:13:49   \n35597       480         1 2022-04-07 16:13:53   \n\n                                 session_id  mobile_user  \n0      c9e86836-ad35-4e16-a4f7-8b273b496570        False  \n1      cc681fa6-f357-4b9c-a268-a986ac9960f1        False  \n2      cc681fa6-f357-4b9c-a268-a986ac9960f1        False  \n3      cc681fa6-f357-4b9c-a268-a986ac9960f1        False  \n4      cc681fa6-f357-4b9c-a268-a986ac9960f1        False  \n...                                     ...          ...  \n35593  87488d1c-6943-4a29-9999-1344e416bef8        False  \n35594  87488d1c-6943-4a29-9999-1344e416bef8        False  \n35595  87488d1c-6943-4a29-9999-1344e416bef8        False  \n35596  ae352032-0334-4b74-8d9f-f77231c1bf5b        False  \n35597  ae352032-0334-4b74-8d9f-f77231c1bf5b        False  \n\n[51164 rows x 5 columns]",
      "text/html": "<div>\n<style scoped>\n    .dataframe tbody tr th:only-of-type {\n        vertical-align: middle;\n    }\n\n    .dataframe tbody tr th {\n        vertical-align: top;\n    }\n\n    .dataframe thead th {\n        text-align: right;\n    }\n</style>\n<table border=\"1\" class=\"dataframe\">\n  <thead>\n    <tr style=\"text-align: right;\">\n      <th></th>\n      <th>image_id</th>\n      <th>response</th>\n      <th>create_dt</th>\n      <th>session_id</th>\n      <th>mobile_user</th>\n    </tr>\n  </thead>\n  <tbody>\n    <tr>\n      <th>0</th>\n      <td>6</td>\n      <td>1</td>\n      <td>2021-04-20 20:23:08</td>\n      <td>c9e86836-ad35-4e16-a4f7-8b273b496570</td>\n      <td>False</td>\n    </tr>\n    <tr>\n      <th>1</th>\n      <td>4</td>\n      <td>1</td>\n      <td>2021-04-21 11:33:17</td>\n      <td>cc681fa6-f357-4b9c-a268-a986ac9960f1</td>\n      <td>False</td>\n    </tr>\n    <tr>\n      <th>2</th>\n      <td>9</td>\n      <td>1</td>\n      <td>2021-04-21 11:33:19</td>\n      <td>cc681fa6-f357-4b9c-a268-a986ac9960f1</td>\n      <td>False</td>\n    </tr>\n    <tr>\n      <th>3</th>\n      <td>5</td>\n      <td>1</td>\n      <td>2021-04-21 12:42:57</td>\n      <td>cc681fa6-f357-4b9c-a268-a986ac9960f1</td>\n      <td>False</td>\n    </tr>\n    <tr>\n      <th>4</th>\n      <td>11</td>\n      <td>1</td>\n      <td>2021-04-21 12:43:07</td>\n      <td>cc681fa6-f357-4b9c-a268-a986ac9960f1</td>\n      <td>False</td>\n    </tr>\n    <tr>\n      <th>...</th>\n      <td>...</td>\n      <td>...</td>\n      <td>...</td>\n      <td>...</td>\n      <td>...</td>\n    </tr>\n    <tr>\n      <th>35593</th>\n      <td>341</td>\n      <td>1</td>\n      <td>2022-04-07 16:12:55</td>\n      <td>87488d1c-6943-4a29-9999-1344e416bef8</td>\n      <td>False</td>\n    </tr>\n    <tr>\n      <th>35594</th>\n      <td>412</td>\n      <td>1</td>\n      <td>2022-04-07 16:13:06</td>\n      <td>87488d1c-6943-4a29-9999-1344e416bef8</td>\n      <td>False</td>\n    </tr>\n    <tr>\n      <th>35595</th>\n      <td>475</td>\n      <td>1</td>\n      <td>2022-04-07 16:13:10</td>\n      <td>87488d1c-6943-4a29-9999-1344e416bef8</td>\n      <td>False</td>\n    </tr>\n    <tr>\n      <th>35596</th>\n      <td>226</td>\n      <td>1</td>\n      <td>2022-04-07 16:13:49</td>\n      <td>ae352032-0334-4b74-8d9f-f77231c1bf5b</td>\n      <td>False</td>\n    </tr>\n    <tr>\n      <th>35597</th>\n      <td>480</td>\n      <td>1</td>\n      <td>2022-04-07 16:13:53</td>\n      <td>ae352032-0334-4b74-8d9f-f77231c1bf5b</td>\n      <td>False</td>\n    </tr>\n  </tbody>\n</table>\n<p>51164 rows × 5 columns</p>\n</div>"
     },
     "execution_count": 4,
     "metadata": {},
     "output_type": "execute_result"
    }
   ],
   "source": [
    "df = pd.concat([desktop_df, mobile_df], axis=0)\n",
    "df = df.drop(columns=['id']).sort_values(by=['create_dt'])\n",
    "df"
   ]
  },
  {
   "cell_type": "code",
   "execution_count": 5,
   "metadata": {
    "collapsed": false,
    "pycharm": {
     "name": "#%%\n"
    }
   },
   "outputs": [
    {
     "name": "stdout",
     "output_type": "stream",
     "text": [
      "<class 'pandas.core.frame.DataFrame'>\n",
      "RangeIndex: 548 entries, 0 to 547\n",
      "Data columns (total 4 columns):\n",
      " #   Column            Non-Null Count  Dtype \n",
      "---  ------            --------------  ----- \n",
      " 0   id                548 non-null    int64 \n",
      " 1   url               349 non-null    object\n",
      " 2   pending_approval  548 non-null    int64 \n",
      " 3   is_mobile         548 non-null    bool  \n",
      "dtypes: bool(1), int64(2), object(1)\n",
      "memory usage: 13.5+ KB\n"
     ]
    }
   ],
   "source": [
    "images_df = pd.read_csv(IMAGES,\n",
    "                 sep=',',\n",
    "                 encoding='utf-8')\n",
    "images_df['is_mobile'] = images_df['is_mobile'].astype(bool)\n",
    "images_df.info()"
   ]
  },
  {
   "cell_type": "code",
   "execution_count": 6,
   "metadata": {
    "collapsed": false,
    "pycharm": {
     "name": "#%%\n"
    }
   },
   "outputs": [
    {
     "name": "stdout",
     "output_type": "stream",
     "text": [
      "185 mobile images out of 548\n"
     ]
    }
   ],
   "source": [
    "print(len(images_df[images_df['is_mobile'] == True]), 'mobile images out of', len(images_df))"
   ]
  },
  {
   "cell_type": "code",
   "execution_count": 7,
   "metadata": {
    "collapsed": false,
    "pycharm": {
     "name": "#%%\n"
    }
   },
   "outputs": [],
   "source": [
    "images_dict = pd.Series(images_df.is_mobile.values,index=images_df.id).to_dict()"
   ]
  },
  {
   "cell_type": "code",
   "execution_count": 8,
   "metadata": {
    "collapsed": false,
    "pycharm": {
     "name": "#%%\n"
    }
   },
   "outputs": [],
   "source": [
    "df['mobile_image'] = df['image_id']\n",
    "df['mobile_image'] = df['mobile_image'].map(images_dict)"
   ]
  },
  {
   "cell_type": "code",
   "execution_count": 9,
   "metadata": {
    "collapsed": false,
    "pycharm": {
     "name": "#%%\n"
    }
   },
   "outputs": [
    {
     "data": {
      "text/plain": "       image_id  response           create_dt  \\\n0            11        -1 2021-04-21 19:45:05   \n1             8         1 2021-04-22 08:06:01   \n2             9         1 2021-04-22 10:04:21   \n3            11         0 2021-04-22 10:06:49   \n4            10         1 2021-04-23 12:32:05   \n...         ...       ...                 ...   \n13486        11         0 2022-03-02 02:56:35   \n13514        11        -1 2022-03-02 18:35:46   \n13629        11         1 2022-03-04 17:21:44   \n13915        11         0 2022-03-09 18:32:23   \n15223        11         1 2022-04-01 10:23:53   \n\n                                 session_id  mobile_user  mobile_image  \n0      9ae1dc88-c633-4ed7-9a3e-9e55ac11d554         True         False  \n1      66924c76-e246-4fd4-9342-e5ab2b83df6e         True         False  \n2      9ae1dc88-c633-4ed7-9a3e-9e55ac11d554         True         False  \n3      9ae1dc88-c633-4ed7-9a3e-9e55ac11d554         True         False  \n4      54db6e88-9735-43c3-9575-25146e96ce31         True         False  \n...                                     ...          ...           ...  \n13486  9475cf86-fdae-4673-a80d-fb38453bccb2         True         False  \n13514  8f4733ef-740c-43e8-ae76-a1f09a94b31e         True         False  \n13629  d0f36f32-111b-4076-8942-c67755fe1679         True         False  \n13915  02c46bcc-4fd7-4c08-810c-f30367ab121b         True         False  \n15223  1fb71673-f46e-49f6-bf7e-783481245683         True         False  \n\n[577 rows x 6 columns]",
      "text/html": "<div>\n<style scoped>\n    .dataframe tbody tr th:only-of-type {\n        vertical-align: middle;\n    }\n\n    .dataframe tbody tr th {\n        vertical-align: top;\n    }\n\n    .dataframe thead th {\n        text-align: right;\n    }\n</style>\n<table border=\"1\" class=\"dataframe\">\n  <thead>\n    <tr style=\"text-align: right;\">\n      <th></th>\n      <th>image_id</th>\n      <th>response</th>\n      <th>create_dt</th>\n      <th>session_id</th>\n      <th>mobile_user</th>\n      <th>mobile_image</th>\n    </tr>\n  </thead>\n  <tbody>\n    <tr>\n      <th>0</th>\n      <td>11</td>\n      <td>-1</td>\n      <td>2021-04-21 19:45:05</td>\n      <td>9ae1dc88-c633-4ed7-9a3e-9e55ac11d554</td>\n      <td>True</td>\n      <td>False</td>\n    </tr>\n    <tr>\n      <th>1</th>\n      <td>8</td>\n      <td>1</td>\n      <td>2021-04-22 08:06:01</td>\n      <td>66924c76-e246-4fd4-9342-e5ab2b83df6e</td>\n      <td>True</td>\n      <td>False</td>\n    </tr>\n    <tr>\n      <th>2</th>\n      <td>9</td>\n      <td>1</td>\n      <td>2021-04-22 10:04:21</td>\n      <td>9ae1dc88-c633-4ed7-9a3e-9e55ac11d554</td>\n      <td>True</td>\n      <td>False</td>\n    </tr>\n    <tr>\n      <th>3</th>\n      <td>11</td>\n      <td>0</td>\n      <td>2021-04-22 10:06:49</td>\n      <td>9ae1dc88-c633-4ed7-9a3e-9e55ac11d554</td>\n      <td>True</td>\n      <td>False</td>\n    </tr>\n    <tr>\n      <th>4</th>\n      <td>10</td>\n      <td>1</td>\n      <td>2021-04-23 12:32:05</td>\n      <td>54db6e88-9735-43c3-9575-25146e96ce31</td>\n      <td>True</td>\n      <td>False</td>\n    </tr>\n    <tr>\n      <th>...</th>\n      <td>...</td>\n      <td>...</td>\n      <td>...</td>\n      <td>...</td>\n      <td>...</td>\n      <td>...</td>\n    </tr>\n    <tr>\n      <th>13486</th>\n      <td>11</td>\n      <td>0</td>\n      <td>2022-03-02 02:56:35</td>\n      <td>9475cf86-fdae-4673-a80d-fb38453bccb2</td>\n      <td>True</td>\n      <td>False</td>\n    </tr>\n    <tr>\n      <th>13514</th>\n      <td>11</td>\n      <td>-1</td>\n      <td>2022-03-02 18:35:46</td>\n      <td>8f4733ef-740c-43e8-ae76-a1f09a94b31e</td>\n      <td>True</td>\n      <td>False</td>\n    </tr>\n    <tr>\n      <th>13629</th>\n      <td>11</td>\n      <td>1</td>\n      <td>2022-03-04 17:21:44</td>\n      <td>d0f36f32-111b-4076-8942-c67755fe1679</td>\n      <td>True</td>\n      <td>False</td>\n    </tr>\n    <tr>\n      <th>13915</th>\n      <td>11</td>\n      <td>0</td>\n      <td>2022-03-09 18:32:23</td>\n      <td>02c46bcc-4fd7-4c08-810c-f30367ab121b</td>\n      <td>True</td>\n      <td>False</td>\n    </tr>\n    <tr>\n      <th>15223</th>\n      <td>11</td>\n      <td>1</td>\n      <td>2022-04-01 10:23:53</td>\n      <td>1fb71673-f46e-49f6-bf7e-783481245683</td>\n      <td>True</td>\n      <td>False</td>\n    </tr>\n  </tbody>\n</table>\n<p>577 rows × 6 columns</p>\n</div>"
     },
     "execution_count": 9,
     "metadata": {},
     "output_type": "execute_result"
    }
   ],
   "source": [
    "df[(df['mobile_user'] == True) & (df['mobile_image'] == False)]"
   ]
  },
  {
   "cell_type": "code",
   "execution_count": 10,
   "metadata": {
    "collapsed": false,
    "pycharm": {
     "name": "#%%\n"
    }
   },
   "outputs": [
    {
     "data": {
      "text/plain": "     image_id  response           create_dt  \\\n71         32         1 2021-04-26 13:30:23   \n161        93         1 2021-04-28 15:34:32   \n\n                               session_id  mobile_user  mobile_image  \n71   cc681fa6-f357-4b9c-a268-a986ac9960f1        False          True  \n161  9ae1dc88-c633-4ed7-9a3e-9e55ac11d554        False          True  ",
      "text/html": "<div>\n<style scoped>\n    .dataframe tbody tr th:only-of-type {\n        vertical-align: middle;\n    }\n\n    .dataframe tbody tr th {\n        vertical-align: top;\n    }\n\n    .dataframe thead th {\n        text-align: right;\n    }\n</style>\n<table border=\"1\" class=\"dataframe\">\n  <thead>\n    <tr style=\"text-align: right;\">\n      <th></th>\n      <th>image_id</th>\n      <th>response</th>\n      <th>create_dt</th>\n      <th>session_id</th>\n      <th>mobile_user</th>\n      <th>mobile_image</th>\n    </tr>\n  </thead>\n  <tbody>\n    <tr>\n      <th>71</th>\n      <td>32</td>\n      <td>1</td>\n      <td>2021-04-26 13:30:23</td>\n      <td>cc681fa6-f357-4b9c-a268-a986ac9960f1</td>\n      <td>False</td>\n      <td>True</td>\n    </tr>\n    <tr>\n      <th>161</th>\n      <td>93</td>\n      <td>1</td>\n      <td>2021-04-28 15:34:32</td>\n      <td>9ae1dc88-c633-4ed7-9a3e-9e55ac11d554</td>\n      <td>False</td>\n      <td>True</td>\n    </tr>\n  </tbody>\n</table>\n</div>"
     },
     "execution_count": 10,
     "metadata": {},
     "output_type": "execute_result"
    }
   ],
   "source": [
    "df[(df['mobile_user'] == False) & (df['mobile_image']== True)]"
   ]
  },
  {
   "cell_type": "markdown",
   "source": [
    "# Data cleansing"
   ],
   "metadata": {
    "collapsed": false,
    "pycharm": {
     "name": "#%% md\n"
    }
   }
  },
  {
   "cell_type": "code",
   "execution_count": 11,
   "metadata": {
    "collapsed": false,
    "pycharm": {
     "name": "#%%\n"
    }
   },
   "outputs": [],
   "source": [
    "df.drop(df[(df['mobile_user'] == False) & (df['mobile_image']== True)].index, inplace=True)\n",
    "errormessage = '''We expect to have zero mobile images for desktop users.\n",
    "    If you see this message, please check the data and re-run the notebook.'''\n",
    "assert len(df[(df['mobile_user'] == False) & (df['mobile_image']== True)])==0, errormessage"
   ]
  },
  {
   "cell_type": "markdown",
   "metadata": {
    "collapsed": false,
    "pycharm": {
     "name": "#%% md\n"
    }
   },
   "source": [
    "# Session ID factorization"
   ]
  },
  {
   "cell_type": "code",
   "metadata": {
    "collapsed": false,
    "pycharm": {
     "name": "#%%\n"
    }
   },
   "source": [
    "df['session_id'] = pd.factorize(df['session_id'])[0]\n",
    "print('Number of unique sessions:',len(df['session_id'].unique()))"
   ],
   "execution_count": 12,
   "outputs": [
    {
     "name": "stdout",
     "output_type": "stream",
     "text": [
      "Number of unique sessions: 46680\n"
     ]
    }
   ]
  },
  {
   "cell_type": "markdown",
   "source": [
    "# Convert **Response** column to human readable format\n",
    "With each request the user is presented with a random image, chosen from the /img directory. They can decide to skip the image (-1 response value), or rate its readability the image. The rating can be yes (+1 response value) or no (0 response value)."
   ],
   "metadata": {
    "collapsed": false,
    "pycharm": {
     "name": "#%% md\n"
    }
   }
  },
  {
   "cell_type": "code",
   "execution_count": 13,
   "outputs": [],
   "source": [
    "df.loc[df['response'] < -1, 'response'] = -1\n",
    "errormessage = '''We expect to have answers of either -1, 0 or 1.\n",
    "    If you see this message, please check the data.'''\n",
    "assert len(df['response'].unique()) < 4, errormessage"
   ],
   "metadata": {
    "collapsed": false,
    "pycharm": {
     "name": "#%%\n"
    }
   }
  },
  {
   "cell_type": "code",
   "execution_count": 14,
   "outputs": [],
   "source": [
    "df['response_yes'] = np.where(df['response'] == 1, True, False)\n",
    "df['response_no'] = np.where(df['response'] == 0, True, False)\n",
    "df['response_skip'] = np.where(df['response'] == -1, True, False)"
   ],
   "metadata": {
    "collapsed": false,
    "pycharm": {
     "name": "#%%\n"
    }
   }
  },
  {
   "cell_type": "code",
   "execution_count": 15,
   "metadata": {
    "collapsed": false,
    "pycharm": {
     "name": "#%%\n"
    }
   },
   "outputs": [
    {
     "data": {
      "text/plain": "       image_id           create_dt  session_id  mobile_user  mobile_image  \\\n0             6 2021-04-20 20:23:08           0        False         False   \n1             4 2021-04-21 11:33:17           1        False         False   \n2             9 2021-04-21 11:33:19           1        False         False   \n3             5 2021-04-21 12:42:57           1        False         False   \n4            11 2021-04-21 12:43:07           1        False         False   \n...         ...                 ...         ...          ...           ...   \n35593       341 2022-04-07 16:12:55       46678        False         False   \n35594       412 2022-04-07 16:13:06       46678        False         False   \n35595       475 2022-04-07 16:13:10       46678        False         False   \n35596       226 2022-04-07 16:13:49       46679        False         False   \n35597       480 2022-04-07 16:13:53       46679        False         False   \n\n       response_yes  response_no  response_skip  \n0              True        False          False  \n1              True        False          False  \n2              True        False          False  \n3              True        False          False  \n4              True        False          False  \n...             ...          ...            ...  \n35593          True        False          False  \n35594          True        False          False  \n35595          True        False          False  \n35596          True        False          False  \n35597          True        False          False  \n\n[51160 rows x 8 columns]",
      "text/html": "<div>\n<style scoped>\n    .dataframe tbody tr th:only-of-type {\n        vertical-align: middle;\n    }\n\n    .dataframe tbody tr th {\n        vertical-align: top;\n    }\n\n    .dataframe thead th {\n        text-align: right;\n    }\n</style>\n<table border=\"1\" class=\"dataframe\">\n  <thead>\n    <tr style=\"text-align: right;\">\n      <th></th>\n      <th>image_id</th>\n      <th>create_dt</th>\n      <th>session_id</th>\n      <th>mobile_user</th>\n      <th>mobile_image</th>\n      <th>response_yes</th>\n      <th>response_no</th>\n      <th>response_skip</th>\n    </tr>\n  </thead>\n  <tbody>\n    <tr>\n      <th>0</th>\n      <td>6</td>\n      <td>2021-04-20 20:23:08</td>\n      <td>0</td>\n      <td>False</td>\n      <td>False</td>\n      <td>True</td>\n      <td>False</td>\n      <td>False</td>\n    </tr>\n    <tr>\n      <th>1</th>\n      <td>4</td>\n      <td>2021-04-21 11:33:17</td>\n      <td>1</td>\n      <td>False</td>\n      <td>False</td>\n      <td>True</td>\n      <td>False</td>\n      <td>False</td>\n    </tr>\n    <tr>\n      <th>2</th>\n      <td>9</td>\n      <td>2021-04-21 11:33:19</td>\n      <td>1</td>\n      <td>False</td>\n      <td>False</td>\n      <td>True</td>\n      <td>False</td>\n      <td>False</td>\n    </tr>\n    <tr>\n      <th>3</th>\n      <td>5</td>\n      <td>2021-04-21 12:42:57</td>\n      <td>1</td>\n      <td>False</td>\n      <td>False</td>\n      <td>True</td>\n      <td>False</td>\n      <td>False</td>\n    </tr>\n    <tr>\n      <th>4</th>\n      <td>11</td>\n      <td>2021-04-21 12:43:07</td>\n      <td>1</td>\n      <td>False</td>\n      <td>False</td>\n      <td>True</td>\n      <td>False</td>\n      <td>False</td>\n    </tr>\n    <tr>\n      <th>...</th>\n      <td>...</td>\n      <td>...</td>\n      <td>...</td>\n      <td>...</td>\n      <td>...</td>\n      <td>...</td>\n      <td>...</td>\n      <td>...</td>\n    </tr>\n    <tr>\n      <th>35593</th>\n      <td>341</td>\n      <td>2022-04-07 16:12:55</td>\n      <td>46678</td>\n      <td>False</td>\n      <td>False</td>\n      <td>True</td>\n      <td>False</td>\n      <td>False</td>\n    </tr>\n    <tr>\n      <th>35594</th>\n      <td>412</td>\n      <td>2022-04-07 16:13:06</td>\n      <td>46678</td>\n      <td>False</td>\n      <td>False</td>\n      <td>True</td>\n      <td>False</td>\n      <td>False</td>\n    </tr>\n    <tr>\n      <th>35595</th>\n      <td>475</td>\n      <td>2022-04-07 16:13:10</td>\n      <td>46678</td>\n      <td>False</td>\n      <td>False</td>\n      <td>True</td>\n      <td>False</td>\n      <td>False</td>\n    </tr>\n    <tr>\n      <th>35596</th>\n      <td>226</td>\n      <td>2022-04-07 16:13:49</td>\n      <td>46679</td>\n      <td>False</td>\n      <td>False</td>\n      <td>True</td>\n      <td>False</td>\n      <td>False</td>\n    </tr>\n    <tr>\n      <th>35597</th>\n      <td>480</td>\n      <td>2022-04-07 16:13:53</td>\n      <td>46679</td>\n      <td>False</td>\n      <td>False</td>\n      <td>True</td>\n      <td>False</td>\n      <td>False</td>\n    </tr>\n  </tbody>\n</table>\n<p>51160 rows × 8 columns</p>\n</div>"
     },
     "execution_count": 15,
     "metadata": {},
     "output_type": "execute_result"
    }
   ],
   "source": [
    "df.drop(columns=['response'], inplace=True)\n",
    "df"
   ]
  },
  {
   "cell_type": "markdown",
   "source": [
    "# Save the results to a single .csv in data"
   ],
   "metadata": {
    "collapsed": false,
    "pycharm": {
     "name": "#%% md\n"
    }
   }
  },
  {
   "cell_type": "code",
   "execution_count": 16,
   "outputs": [
    {
     "name": "stdout",
     "output_type": "stream",
     "text": [
      "\u001B[92mResults saved to: data/canyoureadit.csv\u001B[0m\n"
     ]
    }
   ],
   "source": [
    "df.to_csv(SAVEPATH, sep=',')\n",
    "print(f\"{T.G}Results saved to: {SAVEPATH}{T.E}\")"
   ],
   "metadata": {
    "collapsed": false,
    "pycharm": {
     "name": "#%%\n"
    }
   }
  }
 ],
 "metadata": {
  "kernelspec": {
   "display_name": "Python 3",
   "language": "python",
   "name": "python3"
  },
  "language_info": {
   "codemirror_mode": {
    "name": "ipython",
    "version": 3
   },
   "file_extension": ".py",
   "mimetype": "text/x-python",
   "name": "python",
   "nbconvert_exporter": "python",
   "pygments_lexer": "ipython3",
   "version": "3.9.7"
  }
 },
 "nbformat": 4,
 "nbformat_minor": 0
}