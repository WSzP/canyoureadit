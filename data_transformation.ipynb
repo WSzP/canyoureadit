{
 "cells": [
  {
   "cell_type": "markdown",
   "metadata": {
    "collapsed": true,
    "pycharm": {
     "name": "#%% md\n"
    }
   },
   "source": [
    "# Data Transformation\n",
    "**input:** .csv files directly exported from the [CanYouReadIt?](https://canyoureadit.com) project's database tables at **4/14/2022.**\n",
    "**output:** single .csv file ready for EDA (Exploratory Data Analysis)\n",
    "\n",
    "*Note:* With each request the user is presented with a random image, chosen from the /img directory. They can decide to skip the image (-1 response value), or rate its readability the image. The rating can be yes (+1 response value) or no (0 response value)."
   ]
  },
  {
   "cell_type": "code",
   "execution_count": 1,
   "metadata": {
    "collapsed": false,
    "pycharm": {
     "name": "#%%\n"
    }
   },
   "outputs": [
    {
     "name": "stdout",
     "output_type": "stream",
     "text": [
      "Pandas version: 1.4.1 found!\n"
     ]
    }
   ],
   "source": [
    "try:\n",
    "    import pandas as pd\n",
    "    print(f\"Pandas version: {pd.__version__} found!\")\n",
    "except ModuleNotFoundError:\n",
    "    print(\"Install Pandas with: conda install pandas\")\n",
    "import numpy as np\n",
    "from constants import (TIMESTAMP, IMAGES, DESKTOP, MOBILE, SAVEPATH, T)"
   ]
  },
  {
   "cell_type": "code",
   "execution_count": 2,
   "metadata": {
    "collapsed": false,
    "pycharm": {
     "name": "#%%\n"
    }
   },
   "outputs": [
    {
     "name": "stdout",
     "output_type": "stream",
     "text": [
      "<class 'pandas.core.frame.DataFrame'>\n",
      "RangeIndex: 37453 entries, 0 to 37452\n",
      "Data columns (total 6 columns):\n",
      " #   Column       Non-Null Count  Dtype         \n",
      "---  ------       --------------  -----         \n",
      " 0   id           37453 non-null  int64         \n",
      " 1   image_id     37453 non-null  int64         \n",
      " 2   response     37453 non-null  int64         \n",
      " 3   create_dt    37453 non-null  datetime64[ns]\n",
      " 4   session_id   37453 non-null  object        \n",
      " 5   mobile_user  37453 non-null  bool          \n",
      "dtypes: bool(1), datetime64[ns](1), int64(3), object(1)\n",
      "memory usage: 1.5+ MB\n"
     ]
    }
   ],
   "source": [
    "desktop_df = pd.read_csv(DESKTOP,\n",
    "                 sep=',',\n",
    "                 encoding='utf-8',\n",
    "                 parse_dates = [\"create_dt\"])\n",
    "desktop_df['mobile_user']=False\n",
    "desktop_df.info()"
   ]
  },
  {
   "cell_type": "code",
   "execution_count": 3,
   "metadata": {
    "collapsed": false,
    "pycharm": {
     "name": "#%%\n"
    }
   },
   "outputs": [
    {
     "name": "stdout",
     "output_type": "stream",
     "text": [
      "<class 'pandas.core.frame.DataFrame'>\n",
      "RangeIndex: 16245 entries, 0 to 16244\n",
      "Data columns (total 6 columns):\n",
      " #   Column       Non-Null Count  Dtype         \n",
      "---  ------       --------------  -----         \n",
      " 0   id           16245 non-null  int64         \n",
      " 1   image_id     16245 non-null  int64         \n",
      " 2   response     16245 non-null  int64         \n",
      " 3   create_dt    16245 non-null  datetime64[ns]\n",
      " 4   session_id   16245 non-null  object        \n",
      " 5   mobile_user  16245 non-null  bool          \n",
      "dtypes: bool(1), datetime64[ns](1), int64(3), object(1)\n",
      "memory usage: 650.6+ KB\n"
     ]
    }
   ],
   "source": [
    "mobile_df = pd.read_csv(MOBILE,\n",
    "                 sep=',',\n",
    "                 encoding='utf-8',\n",
    "                 parse_dates = [\"create_dt\"])\n",
    "mobile_df['mobile_user']=True\n",
    "mobile_df.info()"
   ]
  },
  {
   "cell_type": "code",
   "execution_count": 4,
   "metadata": {
    "collapsed": false,
    "pycharm": {
     "name": "#%%\n"
    }
   },
   "outputs": [
    {
     "data": {
      "text/plain": "       image_id  response           create_dt  \\\n0             6         1 2021-04-20 20:23:08   \n1             4         1 2021-04-21 11:33:17   \n2             9         1 2021-04-21 11:33:19   \n3             5         1 2021-04-21 12:42:57   \n4            11         1 2021-04-21 12:43:07   \n...         ...       ...                 ...   \n16240       385        -1 2022-04-16 09:41:14   \n16241       355        -1 2022-04-16 10:06:46   \n16242        39         0 2022-04-16 10:18:40   \n16243       145         0 2022-04-16 10:24:25   \n16244        63         1 2022-04-16 10:31:49   \n\n                                 session_id  mobile_user  \n0      c9e86836-ad35-4e16-a4f7-8b273b496570        False  \n1      cc681fa6-f357-4b9c-a268-a986ac9960f1        False  \n2      cc681fa6-f357-4b9c-a268-a986ac9960f1        False  \n3      cc681fa6-f357-4b9c-a268-a986ac9960f1        False  \n4      cc681fa6-f357-4b9c-a268-a986ac9960f1        False  \n...                                     ...          ...  \n16240  c943343f-6e09-40ff-a49c-49908dd40d85         True  \n16241  011dbd52-2840-4acb-80eb-7cca289e1da4         True  \n16242  cf307e26-6bd2-4644-8ab9-2983493b0022         True  \n16243  ff2ee2f6-8d16-47c1-b625-63ca5242f1b1         True  \n16244  1c0c28e2-3794-4453-8613-ec448ff29466         True  \n\n[53698 rows x 5 columns]",
      "text/html": "<div>\n<style scoped>\n    .dataframe tbody tr th:only-of-type {\n        vertical-align: middle;\n    }\n\n    .dataframe tbody tr th {\n        vertical-align: top;\n    }\n\n    .dataframe thead th {\n        text-align: right;\n    }\n</style>\n<table border=\"1\" class=\"dataframe\">\n  <thead>\n    <tr style=\"text-align: right;\">\n      <th></th>\n      <th>image_id</th>\n      <th>response</th>\n      <th>create_dt</th>\n      <th>session_id</th>\n      <th>mobile_user</th>\n    </tr>\n  </thead>\n  <tbody>\n    <tr>\n      <th>0</th>\n      <td>6</td>\n      <td>1</td>\n      <td>2021-04-20 20:23:08</td>\n      <td>c9e86836-ad35-4e16-a4f7-8b273b496570</td>\n      <td>False</td>\n    </tr>\n    <tr>\n      <th>1</th>\n      <td>4</td>\n      <td>1</td>\n      <td>2021-04-21 11:33:17</td>\n      <td>cc681fa6-f357-4b9c-a268-a986ac9960f1</td>\n      <td>False</td>\n    </tr>\n    <tr>\n      <th>2</th>\n      <td>9</td>\n      <td>1</td>\n      <td>2021-04-21 11:33:19</td>\n      <td>cc681fa6-f357-4b9c-a268-a986ac9960f1</td>\n      <td>False</td>\n    </tr>\n    <tr>\n      <th>3</th>\n      <td>5</td>\n      <td>1</td>\n      <td>2021-04-21 12:42:57</td>\n      <td>cc681fa6-f357-4b9c-a268-a986ac9960f1</td>\n      <td>False</td>\n    </tr>\n    <tr>\n      <th>4</th>\n      <td>11</td>\n      <td>1</td>\n      <td>2021-04-21 12:43:07</td>\n      <td>cc681fa6-f357-4b9c-a268-a986ac9960f1</td>\n      <td>False</td>\n    </tr>\n    <tr>\n      <th>...</th>\n      <td>...</td>\n      <td>...</td>\n      <td>...</td>\n      <td>...</td>\n      <td>...</td>\n    </tr>\n    <tr>\n      <th>16240</th>\n      <td>385</td>\n      <td>-1</td>\n      <td>2022-04-16 09:41:14</td>\n      <td>c943343f-6e09-40ff-a49c-49908dd40d85</td>\n      <td>True</td>\n    </tr>\n    <tr>\n      <th>16241</th>\n      <td>355</td>\n      <td>-1</td>\n      <td>2022-04-16 10:06:46</td>\n      <td>011dbd52-2840-4acb-80eb-7cca289e1da4</td>\n      <td>True</td>\n    </tr>\n    <tr>\n      <th>16242</th>\n      <td>39</td>\n      <td>0</td>\n      <td>2022-04-16 10:18:40</td>\n      <td>cf307e26-6bd2-4644-8ab9-2983493b0022</td>\n      <td>True</td>\n    </tr>\n    <tr>\n      <th>16243</th>\n      <td>145</td>\n      <td>0</td>\n      <td>2022-04-16 10:24:25</td>\n      <td>ff2ee2f6-8d16-47c1-b625-63ca5242f1b1</td>\n      <td>True</td>\n    </tr>\n    <tr>\n      <th>16244</th>\n      <td>63</td>\n      <td>1</td>\n      <td>2022-04-16 10:31:49</td>\n      <td>1c0c28e2-3794-4453-8613-ec448ff29466</td>\n      <td>True</td>\n    </tr>\n  </tbody>\n</table>\n<p>53698 rows × 5 columns</p>\n</div>"
     },
     "execution_count": 4,
     "metadata": {},
     "output_type": "execute_result"
    }
   ],
   "source": [
    "df = pd.concat([desktop_df, mobile_df], axis=0)\n",
    "df = df.drop(columns=['id']).sort_values(by=['create_dt'])\n",
    "df"
   ]
  },
  {
   "cell_type": "code",
   "execution_count": 5,
   "metadata": {
    "collapsed": false,
    "pycharm": {
     "name": "#%%\n"
    }
   },
   "outputs": [
    {
     "name": "stdout",
     "output_type": "stream",
     "text": [
      "<class 'pandas.core.frame.DataFrame'>\n",
      "RangeIndex: 548 entries, 0 to 547\n",
      "Data columns (total 4 columns):\n",
      " #   Column            Non-Null Count  Dtype \n",
      "---  ------            --------------  ----- \n",
      " 0   id                548 non-null    int64 \n",
      " 1   url               349 non-null    object\n",
      " 2   pending_approval  548 non-null    int64 \n",
      " 3   is_mobile         548 non-null    bool  \n",
      "dtypes: bool(1), int64(2), object(1)\n",
      "memory usage: 13.5+ KB\n"
     ]
    }
   ],
   "source": [
    "images_df = pd.read_csv(IMAGES,\n",
    "                 sep=',',\n",
    "                 encoding='utf-8')\n",
    "images_df['is_mobile'] = images_df['is_mobile'].astype(bool)\n",
    "images_df.info()"
   ]
  },
  {
   "cell_type": "code",
   "execution_count": 6,
   "metadata": {
    "collapsed": false,
    "pycharm": {
     "name": "#%%\n"
    }
   },
   "outputs": [
    {
     "name": "stdout",
     "output_type": "stream",
     "text": [
      "185 mobile images out of 548\n"
     ]
    }
   ],
   "source": [
    "print(len(images_df[images_df['is_mobile'] == True]), 'mobile images out of', len(images_df))"
   ]
  },
  {
   "cell_type": "code",
   "execution_count": 7,
   "metadata": {
    "collapsed": false,
    "pycharm": {
     "name": "#%%\n"
    }
   },
   "outputs": [],
   "source": [
    "images_dict = pd.Series(images_df.is_mobile.values,index=images_df.id).to_dict()"
   ]
  },
  {
   "cell_type": "code",
   "execution_count": 8,
   "metadata": {
    "collapsed": false,
    "pycharm": {
     "name": "#%%\n"
    }
   },
   "outputs": [],
   "source": [
    "df['mobile_image'] = df['image_id']\n",
    "df['mobile_image'] = df['mobile_image'].map(images_dict)"
   ]
  },
  {
   "cell_type": "code",
   "execution_count": 9,
   "metadata": {
    "collapsed": false,
    "pycharm": {
     "name": "#%%\n"
    }
   },
   "outputs": [
    {
     "data": {
      "text/plain": "       image_id  response           create_dt  \\\n0            11        -1 2021-04-21 19:45:05   \n1             8         1 2021-04-22 08:06:01   \n2             9         1 2021-04-22 10:04:21   \n3            11         0 2021-04-22 10:06:49   \n4            10         1 2021-04-23 12:32:05   \n...         ...       ...                 ...   \n15882       272        -1 2022-04-13 09:12:29   \n15942        11         1 2022-04-13 23:12:09   \n16068       545         0 2022-04-14 21:56:47   \n16119       545        -1 2022-04-15 07:44:44   \n16175       545         1 2022-04-15 20:16:05   \n\n                                 session_id  mobile_user  mobile_image  \n0      9ae1dc88-c633-4ed7-9a3e-9e55ac11d554         True         False  \n1      66924c76-e246-4fd4-9342-e5ab2b83df6e         True         False  \n2      9ae1dc88-c633-4ed7-9a3e-9e55ac11d554         True         False  \n3      9ae1dc88-c633-4ed7-9a3e-9e55ac11d554         True         False  \n4      54db6e88-9735-43c3-9575-25146e96ce31         True         False  \n...                                     ...          ...           ...  \n15882  fd8e726a-26a8-413b-8a6d-aaf5854d53e0         True         False  \n15942  30fff8bf-79b4-4cdf-b1fc-924012a8d5aa         True         False  \n16068  935fef3a-735f-4bc7-869c-067a44c88645         True         False  \n16119  ce5c1b7b-3b99-4d68-a79c-03ad72cba119         True         False  \n16175  d2222e94-3184-4b94-b776-c67d37907d1b         True         False  \n\n[584 rows x 6 columns]",
      "text/html": "<div>\n<style scoped>\n    .dataframe tbody tr th:only-of-type {\n        vertical-align: middle;\n    }\n\n    .dataframe tbody tr th {\n        vertical-align: top;\n    }\n\n    .dataframe thead th {\n        text-align: right;\n    }\n</style>\n<table border=\"1\" class=\"dataframe\">\n  <thead>\n    <tr style=\"text-align: right;\">\n      <th></th>\n      <th>image_id</th>\n      <th>response</th>\n      <th>create_dt</th>\n      <th>session_id</th>\n      <th>mobile_user</th>\n      <th>mobile_image</th>\n    </tr>\n  </thead>\n  <tbody>\n    <tr>\n      <th>0</th>\n      <td>11</td>\n      <td>-1</td>\n      <td>2021-04-21 19:45:05</td>\n      <td>9ae1dc88-c633-4ed7-9a3e-9e55ac11d554</td>\n      <td>True</td>\n      <td>False</td>\n    </tr>\n    <tr>\n      <th>1</th>\n      <td>8</td>\n      <td>1</td>\n      <td>2021-04-22 08:06:01</td>\n      <td>66924c76-e246-4fd4-9342-e5ab2b83df6e</td>\n      <td>True</td>\n      <td>False</td>\n    </tr>\n    <tr>\n      <th>2</th>\n      <td>9</td>\n      <td>1</td>\n      <td>2021-04-22 10:04:21</td>\n      <td>9ae1dc88-c633-4ed7-9a3e-9e55ac11d554</td>\n      <td>True</td>\n      <td>False</td>\n    </tr>\n    <tr>\n      <th>3</th>\n      <td>11</td>\n      <td>0</td>\n      <td>2021-04-22 10:06:49</td>\n      <td>9ae1dc88-c633-4ed7-9a3e-9e55ac11d554</td>\n      <td>True</td>\n      <td>False</td>\n    </tr>\n    <tr>\n      <th>4</th>\n      <td>10</td>\n      <td>1</td>\n      <td>2021-04-23 12:32:05</td>\n      <td>54db6e88-9735-43c3-9575-25146e96ce31</td>\n      <td>True</td>\n      <td>False</td>\n    </tr>\n    <tr>\n      <th>...</th>\n      <td>...</td>\n      <td>...</td>\n      <td>...</td>\n      <td>...</td>\n      <td>...</td>\n      <td>...</td>\n    </tr>\n    <tr>\n      <th>15882</th>\n      <td>272</td>\n      <td>-1</td>\n      <td>2022-04-13 09:12:29</td>\n      <td>fd8e726a-26a8-413b-8a6d-aaf5854d53e0</td>\n      <td>True</td>\n      <td>False</td>\n    </tr>\n    <tr>\n      <th>15942</th>\n      <td>11</td>\n      <td>1</td>\n      <td>2022-04-13 23:12:09</td>\n      <td>30fff8bf-79b4-4cdf-b1fc-924012a8d5aa</td>\n      <td>True</td>\n      <td>False</td>\n    </tr>\n    <tr>\n      <th>16068</th>\n      <td>545</td>\n      <td>0</td>\n      <td>2022-04-14 21:56:47</td>\n      <td>935fef3a-735f-4bc7-869c-067a44c88645</td>\n      <td>True</td>\n      <td>False</td>\n    </tr>\n    <tr>\n      <th>16119</th>\n      <td>545</td>\n      <td>-1</td>\n      <td>2022-04-15 07:44:44</td>\n      <td>ce5c1b7b-3b99-4d68-a79c-03ad72cba119</td>\n      <td>True</td>\n      <td>False</td>\n    </tr>\n    <tr>\n      <th>16175</th>\n      <td>545</td>\n      <td>1</td>\n      <td>2022-04-15 20:16:05</td>\n      <td>d2222e94-3184-4b94-b776-c67d37907d1b</td>\n      <td>True</td>\n      <td>False</td>\n    </tr>\n  </tbody>\n</table>\n<p>584 rows × 6 columns</p>\n</div>"
     },
     "execution_count": 9,
     "metadata": {},
     "output_type": "execute_result"
    }
   ],
   "source": [
    "df[(df['mobile_user'] == True) & (df['mobile_image'] == False)]"
   ]
  },
  {
   "cell_type": "code",
   "execution_count": 10,
   "metadata": {
    "collapsed": false,
    "pycharm": {
     "name": "#%%\n"
    }
   },
   "outputs": [
    {
     "data": {
      "text/plain": "       image_id  response           create_dt  \\\n71           32         1 2021-04-26 13:30:23   \n161          93         1 2021-04-28 15:34:32   \n35918       107        -1 2022-04-08 13:51:51   \n35919       324        -1 2022-04-08 13:52:36   \n35920       114        -1 2022-04-08 13:52:40   \n\n                                 session_id  mobile_user  mobile_image  \n71     cc681fa6-f357-4b9c-a268-a986ac9960f1        False          True  \n161    9ae1dc88-c633-4ed7-9a3e-9e55ac11d554        False          True  \n35918  d58dba04-e67c-4e49-b4e7-bf5f8d93f94c        False          True  \n35919  d58dba04-e67c-4e49-b4e7-bf5f8d93f94c        False          True  \n35920  d58dba04-e67c-4e49-b4e7-bf5f8d93f94c        False          True  ",
      "text/html": "<div>\n<style scoped>\n    .dataframe tbody tr th:only-of-type {\n        vertical-align: middle;\n    }\n\n    .dataframe tbody tr th {\n        vertical-align: top;\n    }\n\n    .dataframe thead th {\n        text-align: right;\n    }\n</style>\n<table border=\"1\" class=\"dataframe\">\n  <thead>\n    <tr style=\"text-align: right;\">\n      <th></th>\n      <th>image_id</th>\n      <th>response</th>\n      <th>create_dt</th>\n      <th>session_id</th>\n      <th>mobile_user</th>\n      <th>mobile_image</th>\n    </tr>\n  </thead>\n  <tbody>\n    <tr>\n      <th>71</th>\n      <td>32</td>\n      <td>1</td>\n      <td>2021-04-26 13:30:23</td>\n      <td>cc681fa6-f357-4b9c-a268-a986ac9960f1</td>\n      <td>False</td>\n      <td>True</td>\n    </tr>\n    <tr>\n      <th>161</th>\n      <td>93</td>\n      <td>1</td>\n      <td>2021-04-28 15:34:32</td>\n      <td>9ae1dc88-c633-4ed7-9a3e-9e55ac11d554</td>\n      <td>False</td>\n      <td>True</td>\n    </tr>\n    <tr>\n      <th>35918</th>\n      <td>107</td>\n      <td>-1</td>\n      <td>2022-04-08 13:51:51</td>\n      <td>d58dba04-e67c-4e49-b4e7-bf5f8d93f94c</td>\n      <td>False</td>\n      <td>True</td>\n    </tr>\n    <tr>\n      <th>35919</th>\n      <td>324</td>\n      <td>-1</td>\n      <td>2022-04-08 13:52:36</td>\n      <td>d58dba04-e67c-4e49-b4e7-bf5f8d93f94c</td>\n      <td>False</td>\n      <td>True</td>\n    </tr>\n    <tr>\n      <th>35920</th>\n      <td>114</td>\n      <td>-1</td>\n      <td>2022-04-08 13:52:40</td>\n      <td>d58dba04-e67c-4e49-b4e7-bf5f8d93f94c</td>\n      <td>False</td>\n      <td>True</td>\n    </tr>\n  </tbody>\n</table>\n</div>"
     },
     "execution_count": 10,
     "metadata": {},
     "output_type": "execute_result"
    }
   ],
   "source": [
    "df[(df['mobile_user'] == False) & (df['mobile_image']== True)]"
   ]
  },
  {
   "cell_type": "markdown",
   "source": [
    "# Data cleansing"
   ],
   "metadata": {
    "collapsed": false,
    "pycharm": {
     "name": "#%% md\n"
    }
   }
  },
  {
   "cell_type": "code",
   "execution_count": 11,
   "metadata": {
    "collapsed": false,
    "pycharm": {
     "name": "#%%\n"
    }
   },
   "outputs": [],
   "source": [
    "df.drop(df[(df['mobile_user'] == False) & (df['mobile_image']== True)].index, inplace=True)\n",
    "errormessage = '''We expect to have zero mobile images for desktop users.\n",
    "    If you see this message, please check the data and re-run the notebook.'''\n",
    "assert len(df[(df['mobile_user'] == False) & (df['mobile_image']== True)])==0, errormessage"
   ]
  },
  {
   "cell_type": "markdown",
   "metadata": {
    "collapsed": false,
    "pycharm": {
     "name": "#%% md\n"
    }
   },
   "source": [
    "# Session ID factorization"
   ]
  },
  {
   "cell_type": "code",
   "metadata": {
    "collapsed": false,
    "pycharm": {
     "name": "#%%\n"
    }
   },
   "source": [
    "df['session_id'] = pd.factorize(df['session_id'])[0]\n",
    "print('Number of unique sessions:',len(df['session_id'].unique()))"
   ],
   "execution_count": 12,
   "outputs": [
    {
     "name": "stdout",
     "output_type": "stream",
     "text": [
      "Number of unique sessions: 48807\n"
     ]
    }
   ]
  },
  {
   "cell_type": "markdown",
   "source": [
    "# Convert **Response** column to human readable format\n",
    "With each request the user is presented with a random image, chosen from the /img directory. They can decide to skip the image (-1 response value), or rate its readability the image. The rating can be yes (+1 response value) or no (0 response value)."
   ],
   "metadata": {
    "collapsed": false,
    "pycharm": {
     "name": "#%% md\n"
    }
   }
  },
  {
   "cell_type": "code",
   "execution_count": 14,
   "outputs": [],
   "source": [
    "# df.loc[df['response'] < -1, 'response'] = -1\n",
    "errormessage = '''We expect to have answers of either -1, 0 or 1.\n",
    "    If you see this message, please check the data.'''\n",
    "assert len(df['response'].unique()) < 4, errormessage"
   ],
   "metadata": {
    "collapsed": false,
    "pycharm": {
     "name": "#%%\n"
    }
   }
  },
  {
   "cell_type": "code",
   "execution_count": 15,
   "outputs": [],
   "source": [
    "df['response_yes'] = np.where(df['response'] == 1, True, False)\n",
    "df['response_no'] = np.where(df['response'] == 0, True, False)\n",
    "df['response_skip'] = np.where(df['response'] == -1, True, False)"
   ],
   "metadata": {
    "collapsed": false,
    "pycharm": {
     "name": "#%%\n"
    }
   }
  },
  {
   "cell_type": "code",
   "execution_count": 16,
   "metadata": {
    "collapsed": false,
    "pycharm": {
     "name": "#%%\n"
    }
   },
   "outputs": [
    {
     "data": {
      "text/plain": "       image_id           create_dt  session_id  mobile_user  mobile_image  \\\n0             6 2021-04-20 20:23:08           0        False         False   \n1             4 2021-04-21 11:33:17           1        False         False   \n2             9 2021-04-21 11:33:19           1        False         False   \n3             5 2021-04-21 12:42:57           1        False         False   \n4            11 2021-04-21 12:43:07           1        False         False   \n...         ...                 ...         ...          ...           ...   \n16240       385 2022-04-16 09:41:14       48802         True          True   \n16241       355 2022-04-16 10:06:46       48803         True          True   \n16242        39 2022-04-16 10:18:40       48804         True          True   \n16243       145 2022-04-16 10:24:25       48805         True          True   \n16244        63 2022-04-16 10:31:49       48806         True          True   \n\n       response_yes  response_no  response_skip  \n0              True        False          False  \n1              True        False          False  \n2              True        False          False  \n3              True        False          False  \n4              True        False          False  \n...             ...          ...            ...  \n16240         False        False           True  \n16241         False        False           True  \n16242         False         True          False  \n16243         False         True          False  \n16244          True        False          False  \n\n[53691 rows x 8 columns]",
      "text/html": "<div>\n<style scoped>\n    .dataframe tbody tr th:only-of-type {\n        vertical-align: middle;\n    }\n\n    .dataframe tbody tr th {\n        vertical-align: top;\n    }\n\n    .dataframe thead th {\n        text-align: right;\n    }\n</style>\n<table border=\"1\" class=\"dataframe\">\n  <thead>\n    <tr style=\"text-align: right;\">\n      <th></th>\n      <th>image_id</th>\n      <th>create_dt</th>\n      <th>session_id</th>\n      <th>mobile_user</th>\n      <th>mobile_image</th>\n      <th>response_yes</th>\n      <th>response_no</th>\n      <th>response_skip</th>\n    </tr>\n  </thead>\n  <tbody>\n    <tr>\n      <th>0</th>\n      <td>6</td>\n      <td>2021-04-20 20:23:08</td>\n      <td>0</td>\n      <td>False</td>\n      <td>False</td>\n      <td>True</td>\n      <td>False</td>\n      <td>False</td>\n    </tr>\n    <tr>\n      <th>1</th>\n      <td>4</td>\n      <td>2021-04-21 11:33:17</td>\n      <td>1</td>\n      <td>False</td>\n      <td>False</td>\n      <td>True</td>\n      <td>False</td>\n      <td>False</td>\n    </tr>\n    <tr>\n      <th>2</th>\n      <td>9</td>\n      <td>2021-04-21 11:33:19</td>\n      <td>1</td>\n      <td>False</td>\n      <td>False</td>\n      <td>True</td>\n      <td>False</td>\n      <td>False</td>\n    </tr>\n    <tr>\n      <th>3</th>\n      <td>5</td>\n      <td>2021-04-21 12:42:57</td>\n      <td>1</td>\n      <td>False</td>\n      <td>False</td>\n      <td>True</td>\n      <td>False</td>\n      <td>False</td>\n    </tr>\n    <tr>\n      <th>4</th>\n      <td>11</td>\n      <td>2021-04-21 12:43:07</td>\n      <td>1</td>\n      <td>False</td>\n      <td>False</td>\n      <td>True</td>\n      <td>False</td>\n      <td>False</td>\n    </tr>\n    <tr>\n      <th>...</th>\n      <td>...</td>\n      <td>...</td>\n      <td>...</td>\n      <td>...</td>\n      <td>...</td>\n      <td>...</td>\n      <td>...</td>\n      <td>...</td>\n    </tr>\n    <tr>\n      <th>16240</th>\n      <td>385</td>\n      <td>2022-04-16 09:41:14</td>\n      <td>48802</td>\n      <td>True</td>\n      <td>True</td>\n      <td>False</td>\n      <td>False</td>\n      <td>True</td>\n    </tr>\n    <tr>\n      <th>16241</th>\n      <td>355</td>\n      <td>2022-04-16 10:06:46</td>\n      <td>48803</td>\n      <td>True</td>\n      <td>True</td>\n      <td>False</td>\n      <td>False</td>\n      <td>True</td>\n    </tr>\n    <tr>\n      <th>16242</th>\n      <td>39</td>\n      <td>2022-04-16 10:18:40</td>\n      <td>48804</td>\n      <td>True</td>\n      <td>True</td>\n      <td>False</td>\n      <td>True</td>\n      <td>False</td>\n    </tr>\n    <tr>\n      <th>16243</th>\n      <td>145</td>\n      <td>2022-04-16 10:24:25</td>\n      <td>48805</td>\n      <td>True</td>\n      <td>True</td>\n      <td>False</td>\n      <td>True</td>\n      <td>False</td>\n    </tr>\n    <tr>\n      <th>16244</th>\n      <td>63</td>\n      <td>2022-04-16 10:31:49</td>\n      <td>48806</td>\n      <td>True</td>\n      <td>True</td>\n      <td>True</td>\n      <td>False</td>\n      <td>False</td>\n    </tr>\n  </tbody>\n</table>\n<p>53691 rows × 8 columns</p>\n</div>"
     },
     "execution_count": 16,
     "metadata": {},
     "output_type": "execute_result"
    }
   ],
   "source": [
    "df.drop(columns=['response'], inplace=True)\n",
    "df"
   ]
  },
  {
   "cell_type": "markdown",
   "source": [
    "# Save the results to a single .csv in data"
   ],
   "metadata": {
    "collapsed": false,
    "pycharm": {
     "name": "#%% md\n"
    }
   }
  },
  {
   "cell_type": "code",
   "execution_count": 17,
   "outputs": [
    {
     "name": "stdout",
     "output_type": "stream",
     "text": [
      "\u001B[92mResults saved to: data/canyoureadit.csv\u001B[0m\n"
     ]
    }
   ],
   "source": [
    "df.to_csv(SAVEPATH, sep=',')\n",
    "print(f\"{T.G}Results saved to: {SAVEPATH}{T.E}\")"
   ],
   "metadata": {
    "collapsed": false,
    "pycharm": {
     "name": "#%%\n"
    }
   }
  }
 ],
 "metadata": {
  "kernelspec": {
   "display_name": "Python 3",
   "language": "python",
   "name": "python3"
  },
  "language_info": {
   "codemirror_mode": {
    "name": "ipython",
    "version": 3
   },
   "file_extension": ".py",
   "mimetype": "text/x-python",
   "name": "python",
   "nbconvert_exporter": "python",
   "pygments_lexer": "ipython3",
   "version": "3.9.7"
  }
 },
 "nbformat": 4,
 "nbformat_minor": 0
}