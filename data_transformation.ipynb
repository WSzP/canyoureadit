{
 "cells": [
  {
   "cell_type": "markdown",
   "metadata": {
    "collapsed": true,
    "pycharm": {
     "name": "#%% md\n"
    }
   },
   "source": [
    "# EDA (Exploratory Data Analysis)\n",
    "* Dataset from the [CanYouReadIt?](https://canyoureadit.com) project\n",
    "* The survey was conducted starting from **/4/20/2021.** This is an ongoing survey, but the current data has been exported from the online database at **1/8/2022.**\n",
    "\n"
   ]
  },
  {
   "cell_type": "code",
   "execution_count": 1,
   "outputs": [
    {
     "name": "stdout",
     "output_type": "stream",
     "text": [
      "Pandas version: 1.3.4 found!\n"
     ]
    }
   ],
   "source": [
    "try:\n",
    "    import pandas as pd\n",
    "    print(f\"Pandas version: {pd.__version__} found!\")\n",
    "except ModuleNotFoundError:\n",
    "    print(\"Install Pandas with: conda install pandas\")"
   ],
   "metadata": {
    "collapsed": false,
    "pycharm": {
     "name": "#%%\n"
    }
   }
  },
  {
   "cell_type": "code",
   "execution_count": 2,
   "outputs": [],
   "source": [
    "IMAGES = r'data/images_202201080305.csv'\n",
    "DESKTOP = r'data/response_desktop_202201080305.csv'\n",
    "MOBILE = r'data/response_mobile_202201080305.csv'"
   ],
   "metadata": {
    "collapsed": false,
    "pycharm": {
     "name": "#%%\n"
    }
   }
  },
  {
   "cell_type": "code",
   "execution_count": 10,
   "outputs": [
    {
     "name": "stdout",
     "output_type": "stream",
     "text": [
      "<class 'pandas.core.frame.DataFrame'>\n",
      "RangeIndex: 24599 entries, 0 to 24598\n",
      "Data columns (total 6 columns):\n",
      " #   Column       Non-Null Count  Dtype         \n",
      "---  ------       --------------  -----         \n",
      " 0   id           24599 non-null  int64         \n",
      " 1   image_id     24599 non-null  int64         \n",
      " 2   response     24599 non-null  int64         \n",
      " 3   create_dt    24599 non-null  datetime64[ns]\n",
      " 4   session_id   24599 non-null  object        \n",
      " 5   mobile_user  24599 non-null  bool          \n",
      "dtypes: bool(1), datetime64[ns](1), int64(3), object(1)\n",
      "memory usage: 985.0+ KB\n"
     ]
    }
   ],
   "source": [
    "desktop_df = pd.read_csv(DESKTOP,\n",
    "                 sep=',',\n",
    "                 encoding='utf-8',\n",
    "                 parse_dates = [\"create_dt\"])\n",
    "desktop_df['mobile_user']=False\n",
    "desktop_df.info()"
   ],
   "metadata": {
    "collapsed": false,
    "pycharm": {
     "name": "#%%\n"
    }
   }
  },
  {
   "cell_type": "code",
   "execution_count": 11,
   "outputs": [
    {
     "name": "stdout",
     "output_type": "stream",
     "text": [
      "<class 'pandas.core.frame.DataFrame'>\n",
      "RangeIndex: 9458 entries, 0 to 9457\n",
      "Data columns (total 6 columns):\n",
      " #   Column       Non-Null Count  Dtype         \n",
      "---  ------       --------------  -----         \n",
      " 0   id           9458 non-null   int64         \n",
      " 1   image_id     9458 non-null   int64         \n",
      " 2   response     9458 non-null   int64         \n",
      " 3   create_dt    9458 non-null   datetime64[ns]\n",
      " 4   session_id   9458 non-null   object        \n",
      " 5   mobile_user  9458 non-null   bool          \n",
      "dtypes: bool(1), datetime64[ns](1), int64(3), object(1)\n",
      "memory usage: 378.8+ KB\n"
     ]
    }
   ],
   "source": [
    "mobile_df = pd.read_csv(MOBILE,\n",
    "                 sep=',',\n",
    "                 encoding='utf-8',\n",
    "                 parse_dates = [\"create_dt\"])\n",
    "mobile_df['mobile_user']=True\n",
    "mobile_df.info()"
   ],
   "metadata": {
    "collapsed": false,
    "pycharm": {
     "name": "#%%\n"
    }
   }
  },
  {
   "cell_type": "code",
   "execution_count": 16,
   "outputs": [
    {
     "data": {
      "text/plain": "       image_id  response           create_dt  \\\n0             6         1 2021-04-20 20:23:08   \n1             4         1 2021-04-21 11:33:17   \n2             9         1 2021-04-21 11:33:19   \n3             5         1 2021-04-21 12:42:57   \n4            11         1 2021-04-21 12:43:07   \n...         ...       ...                 ...   \n9456        384        -1 2022-01-08 00:36:32   \n9457         92        -1 2022-01-08 00:42:51   \n24596       452        -1 2022-01-08 00:42:56   \n24597       513        -1 2022-01-08 00:52:31   \n24598       523         1 2022-01-08 01:02:24   \n\n                                 session_id  mobile_user  \n0      c9e86836-ad35-4e16-a4f7-8b273b496570        False  \n1      cc681fa6-f357-4b9c-a268-a986ac9960f1        False  \n2      cc681fa6-f357-4b9c-a268-a986ac9960f1        False  \n3      cc681fa6-f357-4b9c-a268-a986ac9960f1        False  \n4      cc681fa6-f357-4b9c-a268-a986ac9960f1        False  \n...                                     ...          ...  \n9456   50493768-4aa3-402e-a84e-747b08122f72         True  \n9457   9720ea8b-0080-4649-8280-773aecd9f067         True  \n24596  a157c0d8-5cb2-4d07-a020-f0171cf71912        False  \n24597  22b6e654-a93a-49aa-9798-3b44f1257364        False  \n24598  70c85bd3-381c-44d4-9eb3-9eb25ba38f48        False  \n\n[34057 rows x 5 columns]",
      "text/html": "<div>\n<style scoped>\n    .dataframe tbody tr th:only-of-type {\n        vertical-align: middle;\n    }\n\n    .dataframe tbody tr th {\n        vertical-align: top;\n    }\n\n    .dataframe thead th {\n        text-align: right;\n    }\n</style>\n<table border=\"1\" class=\"dataframe\">\n  <thead>\n    <tr style=\"text-align: right;\">\n      <th></th>\n      <th>image_id</th>\n      <th>response</th>\n      <th>create_dt</th>\n      <th>session_id</th>\n      <th>mobile_user</th>\n    </tr>\n  </thead>\n  <tbody>\n    <tr>\n      <th>0</th>\n      <td>6</td>\n      <td>1</td>\n      <td>2021-04-20 20:23:08</td>\n      <td>c9e86836-ad35-4e16-a4f7-8b273b496570</td>\n      <td>False</td>\n    </tr>\n    <tr>\n      <th>1</th>\n      <td>4</td>\n      <td>1</td>\n      <td>2021-04-21 11:33:17</td>\n      <td>cc681fa6-f357-4b9c-a268-a986ac9960f1</td>\n      <td>False</td>\n    </tr>\n    <tr>\n      <th>2</th>\n      <td>9</td>\n      <td>1</td>\n      <td>2021-04-21 11:33:19</td>\n      <td>cc681fa6-f357-4b9c-a268-a986ac9960f1</td>\n      <td>False</td>\n    </tr>\n    <tr>\n      <th>3</th>\n      <td>5</td>\n      <td>1</td>\n      <td>2021-04-21 12:42:57</td>\n      <td>cc681fa6-f357-4b9c-a268-a986ac9960f1</td>\n      <td>False</td>\n    </tr>\n    <tr>\n      <th>4</th>\n      <td>11</td>\n      <td>1</td>\n      <td>2021-04-21 12:43:07</td>\n      <td>cc681fa6-f357-4b9c-a268-a986ac9960f1</td>\n      <td>False</td>\n    </tr>\n    <tr>\n      <th>...</th>\n      <td>...</td>\n      <td>...</td>\n      <td>...</td>\n      <td>...</td>\n      <td>...</td>\n    </tr>\n    <tr>\n      <th>9456</th>\n      <td>384</td>\n      <td>-1</td>\n      <td>2022-01-08 00:36:32</td>\n      <td>50493768-4aa3-402e-a84e-747b08122f72</td>\n      <td>True</td>\n    </tr>\n    <tr>\n      <th>9457</th>\n      <td>92</td>\n      <td>-1</td>\n      <td>2022-01-08 00:42:51</td>\n      <td>9720ea8b-0080-4649-8280-773aecd9f067</td>\n      <td>True</td>\n    </tr>\n    <tr>\n      <th>24596</th>\n      <td>452</td>\n      <td>-1</td>\n      <td>2022-01-08 00:42:56</td>\n      <td>a157c0d8-5cb2-4d07-a020-f0171cf71912</td>\n      <td>False</td>\n    </tr>\n    <tr>\n      <th>24597</th>\n      <td>513</td>\n      <td>-1</td>\n      <td>2022-01-08 00:52:31</td>\n      <td>22b6e654-a93a-49aa-9798-3b44f1257364</td>\n      <td>False</td>\n    </tr>\n    <tr>\n      <th>24598</th>\n      <td>523</td>\n      <td>1</td>\n      <td>2022-01-08 01:02:24</td>\n      <td>70c85bd3-381c-44d4-9eb3-9eb25ba38f48</td>\n      <td>False</td>\n    </tr>\n  </tbody>\n</table>\n<p>34057 rows × 5 columns</p>\n</div>"
     },
     "execution_count": 16,
     "metadata": {},
     "output_type": "execute_result"
    }
   ],
   "source": [
    "df = pd.concat([desktop_df, mobile_df], axis=0)\n",
    "df = df.drop(columns=['id']).sort_values(by=['create_dt'])\n",
    "df"
   ],
   "metadata": {
    "collapsed": false,
    "pycharm": {
     "name": "#%%\n"
    }
   }
  },
  {
   "cell_type": "code",
   "execution_count": null,
   "outputs": [],
   "source": [],
   "metadata": {
    "collapsed": false,
    "pycharm": {
     "name": "#%%\n"
    }
   }
  }
 ],
 "metadata": {
  "kernelspec": {
   "display_name": "Python 3",
   "language": "python",
   "name": "python3"
  },
  "language_info": {
   "codemirror_mode": {
    "name": "ipython",
    "version": 2
   },
   "file_extension": ".py",
   "mimetype": "text/x-python",
   "name": "python",
   "nbconvert_exporter": "python",
   "pygments_lexer": "ipython2",
   "version": "2.7.6"
  }
 },
 "nbformat": 4,
 "nbformat_minor": 0
}