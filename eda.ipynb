{
 "cells": [
  {
   "cell_type": "markdown",
   "source": [
    "# EDA (Exploratory Data Analysis)\n",
    "* Dataset from the [CanYouReadIt?](https://canyoureadit.com) project\n",
    "* The survey was conducted starting from **/4/20/2021.** This is an ongoing survey, but the current data has been exported from the online database at **1/8/2022.**"
   ],
   "metadata": {
    "collapsed": false,
    "pycharm": {
     "name": "#%% md\n"
    }
   }
  },
  {
   "cell_type": "code",
   "execution_count": 1,
   "outputs": [
    {
     "name": "stdout",
     "output_type": "stream",
     "text": [
      "Pandas version: 1.3.4 found!\n"
     ]
    }
   ],
   "source": [
    "try:\n",
    "    import pandas as pd\n",
    "    print(f\"Pandas version: {pd.__version__} found!\")\n",
    "except ModuleNotFoundError:\n",
    "    print(\"Install Pandas with: conda install pandas\")\n",
    "\n",
    "import numpy as np\n",
    "import matplotlib.pyplot as plt\n",
    "import matplotlib.dates as mdates\n",
    "import matplotlib.cbook as cbook\n",
    "import datetime as dt\n",
    "import matplotlib.font_manager\n",
    "FONT_SIZE = 24\n",
    "plt.rcParams['font.family'] = 'Helvetica'\n",
    "plt.rcParams['figure.figsize'] = (20,8)\n",
    "plt.rcParams['grid.color'] = '#333333'\n",
    "plt.rcParams['grid.linestyle'] = 'dotted'\n",
    "plt.rcParams['grid.linewidth'] = 1\n",
    "plt.rcParams['text.usetex'] = True\n",
    "plt.rcParams['font.size'] = FONT_SIZE\n",
    "plt.rcParams['legend.fontsize'] = FONT_SIZE\n",
    "plt.rcParams['xtick.labelsize'] = FONT_SIZE\n",
    "plt.rcParams['ytick.labelsize'] = FONT_SIZE\n",
    "%config InlineBackend.figure_format ='retina'"
   ],
   "metadata": {
    "collapsed": false,
    "pycharm": {
     "name": "#%%\n"
    }
   }
  },
  {
   "cell_type": "code",
   "execution_count": 2,
   "outputs": [],
   "source": [
    "from constants import (SAVEPATH, T)"
   ],
   "metadata": {
    "collapsed": false,
    "pycharm": {
     "name": "#%%\n"
    }
   }
  },
  {
   "cell_type": "code",
   "execution_count": 5,
   "outputs": [
    {
     "name": "stdout",
     "output_type": "stream",
     "text": [
      "<class 'pandas.core.frame.DataFrame'>\n",
      "Int64Index: 34053 entries, 0 to 24598\n",
      "Data columns (total 8 columns):\n",
      " #   Column         Non-Null Count  Dtype         \n",
      "---  ------         --------------  -----         \n",
      " 0   image_id       34053 non-null  int64         \n",
      " 1   create_dt      34053 non-null  datetime64[ns]\n",
      " 2   session_id     34053 non-null  int64         \n",
      " 3   mobile_user    34053 non-null  bool          \n",
      " 4   mobile_image   34053 non-null  bool          \n",
      " 5   response_yes   34053 non-null  bool          \n",
      " 6   response_no    34053 non-null  bool          \n",
      " 7   response_skip  34053 non-null  bool          \n",
      "dtypes: bool(5), datetime64[ns](1), int64(2)\n",
      "memory usage: 1.2 MB\n"
     ]
    }
   ],
   "source": [
    "df = pd.read_csv(SAVEPATH,\n",
    "                 index_col=0,\n",
    "                 sep=',',\n",
    "                 parse_dates = [\"create_dt\"])\n",
    "df.info()"
   ],
   "metadata": {
    "collapsed": false,
    "pycharm": {
     "name": "#%%\n"
    }
   }
  },
  {
   "cell_type": "code",
   "execution_count": 6,
   "outputs": [
    {
     "data": {
      "text/plain": "       image_id           create_dt  session_id  mobile_user  mobile_image  \\\n0             6 2021-04-20 20:23:08           0        False         False   \n1             4 2021-04-21 11:33:17           1        False         False   \n2             9 2021-04-21 11:33:19           1        False         False   \n3             5 2021-04-21 12:42:57           1        False         False   \n4            11 2021-04-21 12:43:07           1        False         False   \n...         ...                 ...         ...          ...           ...   \n9456        384 2022-01-08 00:36:32       29643         True          True   \n9457         92 2022-01-08 00:42:51       29644         True          True   \n24596       452 2022-01-08 00:42:56       29645        False         False   \n24597       513 2022-01-08 00:52:31       29646        False         False   \n24598       523 2022-01-08 01:02:24       29647        False         False   \n\n       response_yes  response_no  response_skip  \n0              True        False          False  \n1              True        False          False  \n2              True        False          False  \n3              True        False          False  \n4              True        False          False  \n...             ...          ...            ...  \n9456          False        False           True  \n9457          False        False           True  \n24596         False        False           True  \n24597         False        False           True  \n24598          True        False          False  \n\n[34053 rows x 8 columns]",
      "text/html": "<div>\n<style scoped>\n    .dataframe tbody tr th:only-of-type {\n        vertical-align: middle;\n    }\n\n    .dataframe tbody tr th {\n        vertical-align: top;\n    }\n\n    .dataframe thead th {\n        text-align: right;\n    }\n</style>\n<table border=\"1\" class=\"dataframe\">\n  <thead>\n    <tr style=\"text-align: right;\">\n      <th></th>\n      <th>image_id</th>\n      <th>create_dt</th>\n      <th>session_id</th>\n      <th>mobile_user</th>\n      <th>mobile_image</th>\n      <th>response_yes</th>\n      <th>response_no</th>\n      <th>response_skip</th>\n    </tr>\n  </thead>\n  <tbody>\n    <tr>\n      <th>0</th>\n      <td>6</td>\n      <td>2021-04-20 20:23:08</td>\n      <td>0</td>\n      <td>False</td>\n      <td>False</td>\n      <td>True</td>\n      <td>False</td>\n      <td>False</td>\n    </tr>\n    <tr>\n      <th>1</th>\n      <td>4</td>\n      <td>2021-04-21 11:33:17</td>\n      <td>1</td>\n      <td>False</td>\n      <td>False</td>\n      <td>True</td>\n      <td>False</td>\n      <td>False</td>\n    </tr>\n    <tr>\n      <th>2</th>\n      <td>9</td>\n      <td>2021-04-21 11:33:19</td>\n      <td>1</td>\n      <td>False</td>\n      <td>False</td>\n      <td>True</td>\n      <td>False</td>\n      <td>False</td>\n    </tr>\n    <tr>\n      <th>3</th>\n      <td>5</td>\n      <td>2021-04-21 12:42:57</td>\n      <td>1</td>\n      <td>False</td>\n      <td>False</td>\n      <td>True</td>\n      <td>False</td>\n      <td>False</td>\n    </tr>\n    <tr>\n      <th>4</th>\n      <td>11</td>\n      <td>2021-04-21 12:43:07</td>\n      <td>1</td>\n      <td>False</td>\n      <td>False</td>\n      <td>True</td>\n      <td>False</td>\n      <td>False</td>\n    </tr>\n    <tr>\n      <th>...</th>\n      <td>...</td>\n      <td>...</td>\n      <td>...</td>\n      <td>...</td>\n      <td>...</td>\n      <td>...</td>\n      <td>...</td>\n      <td>...</td>\n    </tr>\n    <tr>\n      <th>9456</th>\n      <td>384</td>\n      <td>2022-01-08 00:36:32</td>\n      <td>29643</td>\n      <td>True</td>\n      <td>True</td>\n      <td>False</td>\n      <td>False</td>\n      <td>True</td>\n    </tr>\n    <tr>\n      <th>9457</th>\n      <td>92</td>\n      <td>2022-01-08 00:42:51</td>\n      <td>29644</td>\n      <td>True</td>\n      <td>True</td>\n      <td>False</td>\n      <td>False</td>\n      <td>True</td>\n    </tr>\n    <tr>\n      <th>24596</th>\n      <td>452</td>\n      <td>2022-01-08 00:42:56</td>\n      <td>29645</td>\n      <td>False</td>\n      <td>False</td>\n      <td>False</td>\n      <td>False</td>\n      <td>True</td>\n    </tr>\n    <tr>\n      <th>24597</th>\n      <td>513</td>\n      <td>2022-01-08 00:52:31</td>\n      <td>29646</td>\n      <td>False</td>\n      <td>False</td>\n      <td>False</td>\n      <td>False</td>\n      <td>True</td>\n    </tr>\n    <tr>\n      <th>24598</th>\n      <td>523</td>\n      <td>2022-01-08 01:02:24</td>\n      <td>29647</td>\n      <td>False</td>\n      <td>False</td>\n      <td>True</td>\n      <td>False</td>\n      <td>False</td>\n    </tr>\n  </tbody>\n</table>\n<p>34053 rows × 8 columns</p>\n</div>"
     },
     "execution_count": 6,
     "metadata": {},
     "output_type": "execute_result"
    }
   ],
   "source": [
    "df"
   ],
   "metadata": {
    "collapsed": false,
    "pycharm": {
     "name": "#%%\n"
    }
   }
  },
  {
   "cell_type": "code",
   "execution_count": null,
   "outputs": [],
   "source": [],
   "metadata": {
    "collapsed": false,
    "pycharm": {
     "name": "#%%\n"
    }
   }
  }
 ],
 "metadata": {
  "kernelspec": {
   "display_name": "Python 3",
   "language": "python",
   "name": "python3"
  },
  "language_info": {
   "codemirror_mode": {
    "name": "ipython",
    "version": 2
   },
   "file_extension": ".py",
   "mimetype": "text/x-python",
   "name": "python",
   "nbconvert_exporter": "python",
   "pygments_lexer": "ipython2",
   "version": "2.7.6"
  }
 },
 "nbformat": 4,
 "nbformat_minor": 0
}