{
 "cells": [
  {
   "cell_type": "markdown",
   "source": [
    "# EDA (Exploratory Data Analysis)\n",
    "* Dataset from the [CanYouReadIt?](https://canyoureadit.com) project\n",
    "* The survey was conducted starting from **/4/20/2021.** This is an ongoing survey, but the current data has been exported from the online database at **1/8/2022.**"
   ],
   "metadata": {
    "collapsed": false,
    "pycharm": {
     "name": "#%% md\n"
    }
   }
  },
  {
   "cell_type": "code",
   "execution_count": null,
   "outputs": [],
   "source": [
    "try:\n",
    "    import pandas as pd\n",
    "    print(f\"Pandas version: {pd.__version__} found!\")\n",
    "except ModuleNotFoundError:\n",
    "    print(\"Install Pandas with: conda install pandas\")"
   ],
   "metadata": {
    "collapsed": false,
    "pycharm": {
     "name": "#%%\n"
    }
   }
  }
 ],
 "metadata": {
  "kernelspec": {
   "display_name": "Python 3",
   "language": "python",
   "name": "python3"
  },
  "language_info": {
   "codemirror_mode": {
    "name": "ipython",
    "version": 2
   },
   "file_extension": ".py",
   "mimetype": "text/x-python",
   "name": "python",
   "nbconvert_exporter": "python",
   "pygments_lexer": "ipython2",
   "version": "2.7.6"
  }
 },
 "nbformat": 4,
 "nbformat_minor": 0
}