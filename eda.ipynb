{
 "cells": [
  {
   "cell_type": "markdown",
   "source": [
    "# EDA (Exploratory Data Analysis)\n",
    "* Dataset from the [CanYouReadIt?](https://canyoureadit.com) project\n",
    "* The survey was conducted starting from **/4/20/2021.** This is an ongoing survey, but the current data has been exported from the online database at **1/8/2022.**"
   ],
   "metadata": {
    "collapsed": false,
    "pycharm": {
     "name": "#%% md\n"
    }
   }
  },
  {
   "cell_type": "code",
   "execution_count": null,
   "outputs": [],
   "source": [
    "try:\n",
    "    import pandas as pd\n",
    "    print(f\"Pandas version: {pd.__version__} found!\")\n",
    "except ModuleNotFoundError:\n",
    "    print(\"Install Pandas with: conda install pandas\")\n",
    "\n",
    "import numpy as np\n",
    "import matplotlib.pyplot as plt\n",
    "import matplotlib.dates as mdates\n",
    "import matplotlib.cbook as cbook\n",
    "import datetime as dt\n",
    "import matplotlib.font_manager\n",
    "FONT_SIZE = 24\n",
    "plt.rcParams['font.family'] = 'Helvetica'\n",
    "plt.rcParams['figure.figsize'] = (20,8)\n",
    "plt.rcParams['grid.color'] = '#333333'\n",
    "plt.rcParams['grid.linestyle'] = 'dotted'\n",
    "plt.rcParams['grid.linewidth'] = 1\n",
    "plt.rcParams['text.usetex'] = True\n",
    "plt.rcParams['font.size'] = FONT_SIZE\n",
    "plt.rcParams['legend.fontsize'] = FONT_SIZE\n",
    "plt.rcParams['xtick.labelsize'] = FONT_SIZE\n",
    "plt.rcParams['ytick.labelsize'] = FONT_SIZE\n",
    "%config InlineBackend.figure_format ='retina'"
   ],
   "metadata": {
    "collapsed": false,
    "pycharm": {
     "name": "#%%\n"
    }
   }
  }
 ],
 "metadata": {
  "kernelspec": {
   "display_name": "Python 3",
   "language": "python",
   "name": "python3"
  },
  "language_info": {
   "codemirror_mode": {
    "name": "ipython",
    "version": 2
   },
   "file_extension": ".py",
   "mimetype": "text/x-python",
   "name": "python",
   "nbconvert_exporter": "python",
   "pygments_lexer": "ipython2",
   "version": "2.7.6"
  }
 },
 "nbformat": 4,
 "nbformat_minor": 0
}